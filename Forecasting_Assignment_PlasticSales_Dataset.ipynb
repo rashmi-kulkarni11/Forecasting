{
 "cells": [
  {
   "cell_type": "markdown",
   "metadata": {},
   "source": [
    "# Forecast the PlasticSales data set. Prepare a document for each model explaining \n",
    "how many dummy variables you have created and RMSE value for each model. Finally which model you will use for \n",
    "Forecasting.\n"
   ]
  },
  {
   "cell_type": "code",
   "execution_count": 1,
   "metadata": {},
   "outputs": [],
   "source": [
    "import pandas as pd\n",
    "import numpy as np\n",
    "import matplotlib.pyplot as plt\n",
    "import seaborn as sns\n",
    "\n",
    "import statsmodels.api as sm\n",
    "from statsmodels.tsa.seasonal import seasonal_decompose\n",
    "from statsmodels.tsa.holtwinters import SimpleExpSmoothing # SES\n",
    "from statsmodels.tsa.holtwinters import Holt # Holts Exponential Smoothing\n",
    "from statsmodels.tsa.holtwinters import ExponentialSmoothing # \n",
    "from datetime import datetime,time\n"
   ]
  },
  {
   "cell_type": "code",
   "execution_count": 2,
   "metadata": {},
   "outputs": [],
   "source": [
    "from statsmodels.tsa.ar_model import AR,ARResults"
   ]
  },
  {
   "cell_type": "code",
   "execution_count": 3,
   "metadata": {},
   "outputs": [],
   "source": [
    "plasticsales = pd.read_csv(\"C:\\\\Excelr Data\\\\Assignments\\\\Forecasting\\\\PlasticSales.csv\")"
   ]
  },
  {
   "cell_type": "code",
   "execution_count": 4,
   "metadata": {},
   "outputs": [],
   "source": [
    "plasticsales['date'] = (pd.to_datetime(plasticsales['Month']))"
   ]
  },
  {
   "cell_type": "code",
   "execution_count": 5,
   "metadata": {},
   "outputs": [],
   "source": [
    "plasticsales.loc[plasticsales['Month'].notnull(), 'Months'] = plasticsales['Month'].str[0:3]\n"
   ]
  },
  {
   "cell_type": "code",
   "execution_count": 6,
   "metadata": {},
   "outputs": [],
   "source": [
    "plastic = plasticsales.drop(labels='Month',axis=1)"
   ]
  },
  {
   "cell_type": "code",
   "execution_count": 7,
   "metadata": {},
   "outputs": [
    {
     "data": {
      "text/html": [
       "<div>\n",
       "<style scoped>\n",
       "    .dataframe tbody tr th:only-of-type {\n",
       "        vertical-align: middle;\n",
       "    }\n",
       "\n",
       "    .dataframe tbody tr th {\n",
       "        vertical-align: top;\n",
       "    }\n",
       "\n",
       "    .dataframe thead th {\n",
       "        text-align: right;\n",
       "    }\n",
       "</style>\n",
       "<table border=\"1\" class=\"dataframe\">\n",
       "  <thead>\n",
       "    <tr style=\"text-align: right;\">\n",
       "      <th></th>\n",
       "      <th>Sales</th>\n",
       "      <th>date</th>\n",
       "      <th>Months</th>\n",
       "    </tr>\n",
       "  </thead>\n",
       "  <tbody>\n",
       "    <tr>\n",
       "      <th>0</th>\n",
       "      <td>742</td>\n",
       "      <td>2049-01-01</td>\n",
       "      <td>Jan</td>\n",
       "    </tr>\n",
       "    <tr>\n",
       "      <th>1</th>\n",
       "      <td>697</td>\n",
       "      <td>2049-02-01</td>\n",
       "      <td>Feb</td>\n",
       "    </tr>\n",
       "    <tr>\n",
       "      <th>2</th>\n",
       "      <td>776</td>\n",
       "      <td>2049-03-01</td>\n",
       "      <td>Mar</td>\n",
       "    </tr>\n",
       "    <tr>\n",
       "      <th>3</th>\n",
       "      <td>898</td>\n",
       "      <td>2049-04-01</td>\n",
       "      <td>Apr</td>\n",
       "    </tr>\n",
       "    <tr>\n",
       "      <th>4</th>\n",
       "      <td>1030</td>\n",
       "      <td>2049-05-01</td>\n",
       "      <td>May</td>\n",
       "    </tr>\n",
       "  </tbody>\n",
       "</table>\n",
       "</div>"
      ],
      "text/plain": [
       "   Sales       date Months\n",
       "0    742 2049-01-01    Jan\n",
       "1    697 2049-02-01    Feb\n",
       "2    776 2049-03-01    Mar\n",
       "3    898 2049-04-01    Apr\n",
       "4   1030 2049-05-01    May"
      ]
     },
     "execution_count": 7,
     "metadata": {},
     "output_type": "execute_result"
    }
   ],
   "source": [
    "plastic.head()"
   ]
  },
  {
   "cell_type": "code",
   "execution_count": 8,
   "metadata": {},
   "outputs": [
    {
     "data": {
      "text/html": [
       "<div>\n",
       "<style scoped>\n",
       "    .dataframe tbody tr th:only-of-type {\n",
       "        vertical-align: middle;\n",
       "    }\n",
       "\n",
       "    .dataframe tbody tr th {\n",
       "        vertical-align: top;\n",
       "    }\n",
       "\n",
       "    .dataframe thead th {\n",
       "        text-align: right;\n",
       "    }\n",
       "</style>\n",
       "<table border=\"1\" class=\"dataframe\">\n",
       "  <thead>\n",
       "    <tr style=\"text-align: right;\">\n",
       "      <th></th>\n",
       "      <th>Aug</th>\n",
       "      <th>Dec</th>\n",
       "      <th>Feb</th>\n",
       "      <th>Jan</th>\n",
       "      <th>Jul</th>\n",
       "      <th>Jun</th>\n",
       "      <th>Mar</th>\n",
       "      <th>May</th>\n",
       "      <th>Nov</th>\n",
       "      <th>Oct</th>\n",
       "      <th>Sep</th>\n",
       "    </tr>\n",
       "  </thead>\n",
       "  <tbody>\n",
       "    <tr>\n",
       "      <th>0</th>\n",
       "      <td>0</td>\n",
       "      <td>0</td>\n",
       "      <td>0</td>\n",
       "      <td>1</td>\n",
       "      <td>0</td>\n",
       "      <td>0</td>\n",
       "      <td>0</td>\n",
       "      <td>0</td>\n",
       "      <td>0</td>\n",
       "      <td>0</td>\n",
       "      <td>0</td>\n",
       "    </tr>\n",
       "    <tr>\n",
       "      <th>1</th>\n",
       "      <td>0</td>\n",
       "      <td>0</td>\n",
       "      <td>1</td>\n",
       "      <td>0</td>\n",
       "      <td>0</td>\n",
       "      <td>0</td>\n",
       "      <td>0</td>\n",
       "      <td>0</td>\n",
       "      <td>0</td>\n",
       "      <td>0</td>\n",
       "      <td>0</td>\n",
       "    </tr>\n",
       "    <tr>\n",
       "      <th>2</th>\n",
       "      <td>0</td>\n",
       "      <td>0</td>\n",
       "      <td>0</td>\n",
       "      <td>0</td>\n",
       "      <td>0</td>\n",
       "      <td>0</td>\n",
       "      <td>1</td>\n",
       "      <td>0</td>\n",
       "      <td>0</td>\n",
       "      <td>0</td>\n",
       "      <td>0</td>\n",
       "    </tr>\n",
       "    <tr>\n",
       "      <th>3</th>\n",
       "      <td>0</td>\n",
       "      <td>0</td>\n",
       "      <td>0</td>\n",
       "      <td>0</td>\n",
       "      <td>0</td>\n",
       "      <td>0</td>\n",
       "      <td>0</td>\n",
       "      <td>0</td>\n",
       "      <td>0</td>\n",
       "      <td>0</td>\n",
       "      <td>0</td>\n",
       "    </tr>\n",
       "    <tr>\n",
       "      <th>4</th>\n",
       "      <td>0</td>\n",
       "      <td>0</td>\n",
       "      <td>0</td>\n",
       "      <td>0</td>\n",
       "      <td>0</td>\n",
       "      <td>0</td>\n",
       "      <td>0</td>\n",
       "      <td>1</td>\n",
       "      <td>0</td>\n",
       "      <td>0</td>\n",
       "      <td>0</td>\n",
       "    </tr>\n",
       "  </tbody>\n",
       "</table>\n",
       "</div>"
      ],
      "text/plain": [
       "   Aug  Dec  Feb  Jan  Jul  Jun  Mar  May  Nov  Oct  Sep\n",
       "0    0    0    0    1    0    0    0    0    0    0    0\n",
       "1    0    0    1    0    0    0    0    0    0    0    0\n",
       "2    0    0    0    0    0    0    1    0    0    0    0\n",
       "3    0    0    0    0    0    0    0    0    0    0    0\n",
       "4    0    0    0    0    0    0    0    1    0    0    0"
      ]
     },
     "execution_count": 8,
     "metadata": {},
     "output_type": "execute_result"
    }
   ],
   "source": [
    "month_dummies = pd.DataFrame(pd.get_dummies(plastic['Months'],drop_first=True))\n",
    "month_dummies.head()"
   ]
  },
  {
   "cell_type": "code",
   "execution_count": 9,
   "metadata": {},
   "outputs": [],
   "source": [
    "plastic = pd.concat([plastic,month_dummies],axis = 1)"
   ]
  },
  {
   "cell_type": "code",
   "execution_count": 10,
   "metadata": {},
   "outputs": [
    {
     "data": {
      "text/html": [
       "<div>\n",
       "<style scoped>\n",
       "    .dataframe tbody tr th:only-of-type {\n",
       "        vertical-align: middle;\n",
       "    }\n",
       "\n",
       "    .dataframe tbody tr th {\n",
       "        vertical-align: top;\n",
       "    }\n",
       "\n",
       "    .dataframe thead th {\n",
       "        text-align: right;\n",
       "    }\n",
       "</style>\n",
       "<table border=\"1\" class=\"dataframe\">\n",
       "  <thead>\n",
       "    <tr style=\"text-align: right;\">\n",
       "      <th></th>\n",
       "      <th>Sales</th>\n",
       "      <th>date</th>\n",
       "      <th>Months</th>\n",
       "      <th>Aug</th>\n",
       "      <th>Dec</th>\n",
       "      <th>Feb</th>\n",
       "      <th>Jan</th>\n",
       "      <th>Jul</th>\n",
       "      <th>Jun</th>\n",
       "      <th>Mar</th>\n",
       "      <th>May</th>\n",
       "      <th>Nov</th>\n",
       "      <th>Oct</th>\n",
       "      <th>Sep</th>\n",
       "    </tr>\n",
       "  </thead>\n",
       "  <tbody>\n",
       "    <tr>\n",
       "      <th>0</th>\n",
       "      <td>742</td>\n",
       "      <td>2049-01-01</td>\n",
       "      <td>Jan</td>\n",
       "      <td>0</td>\n",
       "      <td>0</td>\n",
       "      <td>0</td>\n",
       "      <td>1</td>\n",
       "      <td>0</td>\n",
       "      <td>0</td>\n",
       "      <td>0</td>\n",
       "      <td>0</td>\n",
       "      <td>0</td>\n",
       "      <td>0</td>\n",
       "      <td>0</td>\n",
       "    </tr>\n",
       "    <tr>\n",
       "      <th>1</th>\n",
       "      <td>697</td>\n",
       "      <td>2049-02-01</td>\n",
       "      <td>Feb</td>\n",
       "      <td>0</td>\n",
       "      <td>0</td>\n",
       "      <td>1</td>\n",
       "      <td>0</td>\n",
       "      <td>0</td>\n",
       "      <td>0</td>\n",
       "      <td>0</td>\n",
       "      <td>0</td>\n",
       "      <td>0</td>\n",
       "      <td>0</td>\n",
       "      <td>0</td>\n",
       "    </tr>\n",
       "    <tr>\n",
       "      <th>2</th>\n",
       "      <td>776</td>\n",
       "      <td>2049-03-01</td>\n",
       "      <td>Mar</td>\n",
       "      <td>0</td>\n",
       "      <td>0</td>\n",
       "      <td>0</td>\n",
       "      <td>0</td>\n",
       "      <td>0</td>\n",
       "      <td>0</td>\n",
       "      <td>1</td>\n",
       "      <td>0</td>\n",
       "      <td>0</td>\n",
       "      <td>0</td>\n",
       "      <td>0</td>\n",
       "    </tr>\n",
       "    <tr>\n",
       "      <th>3</th>\n",
       "      <td>898</td>\n",
       "      <td>2049-04-01</td>\n",
       "      <td>Apr</td>\n",
       "      <td>0</td>\n",
       "      <td>0</td>\n",
       "      <td>0</td>\n",
       "      <td>0</td>\n",
       "      <td>0</td>\n",
       "      <td>0</td>\n",
       "      <td>0</td>\n",
       "      <td>0</td>\n",
       "      <td>0</td>\n",
       "      <td>0</td>\n",
       "      <td>0</td>\n",
       "    </tr>\n",
       "    <tr>\n",
       "      <th>4</th>\n",
       "      <td>1030</td>\n",
       "      <td>2049-05-01</td>\n",
       "      <td>May</td>\n",
       "      <td>0</td>\n",
       "      <td>0</td>\n",
       "      <td>0</td>\n",
       "      <td>0</td>\n",
       "      <td>0</td>\n",
       "      <td>0</td>\n",
       "      <td>0</td>\n",
       "      <td>1</td>\n",
       "      <td>0</td>\n",
       "      <td>0</td>\n",
       "      <td>0</td>\n",
       "    </tr>\n",
       "  </tbody>\n",
       "</table>\n",
       "</div>"
      ],
      "text/plain": [
       "   Sales       date Months  Aug  Dec  Feb  Jan  Jul  Jun  Mar  May  Nov  Oct  \\\n",
       "0    742 2049-01-01    Jan    0    0    0    1    0    0    0    0    0    0   \n",
       "1    697 2049-02-01    Feb    0    0    1    0    0    0    0    0    0    0   \n",
       "2    776 2049-03-01    Mar    0    0    0    0    0    0    1    0    0    0   \n",
       "3    898 2049-04-01    Apr    0    0    0    0    0    0    0    0    0    0   \n",
       "4   1030 2049-05-01    May    0    0    0    0    0    0    0    1    0    0   \n",
       "\n",
       "   Sep  \n",
       "0    0  \n",
       "1    0  \n",
       "2    0  \n",
       "3    0  \n",
       "4    0  "
      ]
     },
     "execution_count": 10,
     "metadata": {},
     "output_type": "execute_result"
    }
   ],
   "source": [
    "plastic.head()"
   ]
  },
  {
   "cell_type": "code",
   "execution_count": 11,
   "metadata": {},
   "outputs": [
    {
     "data": {
      "text/plain": [
       "60"
      ]
     },
     "execution_count": 11,
     "metadata": {},
     "output_type": "execute_result"
    }
   ],
   "source": [
    "len(plastic)"
   ]
  },
  {
   "cell_type": "code",
   "execution_count": 12,
   "metadata": {},
   "outputs": [],
   "source": [
    "plastic[\"t\"] = np.arange(1,61)\n",
    "plastic[\"t_squared\"] = plastic[\"t\"]*plastic[\"t\"]"
   ]
  },
  {
   "cell_type": "code",
   "execution_count": 13,
   "metadata": {},
   "outputs": [
    {
     "data": {
      "text/plain": [
       "Index(['Sales', 'date', 'Months', 'Aug', 'Dec', 'Feb', 'Jan', 'Jul', 'Jun',\n",
       "       'Mar', 'May', 'Nov', 'Oct', 'Sep', 't', 't_squared'],\n",
       "      dtype='object')"
      ]
     },
     "execution_count": 13,
     "metadata": {},
     "output_type": "execute_result"
    }
   ],
   "source": [
    "plastic.columns"
   ]
  },
  {
   "cell_type": "code",
   "execution_count": 14,
   "metadata": {},
   "outputs": [],
   "source": [
    "plastic[\"log_Sales\"] = np.log(plastic[\"Sales\"])"
   ]
  },
  {
   "cell_type": "code",
   "execution_count": 15,
   "metadata": {},
   "outputs": [
    {
     "data": {
      "text/html": [
       "<div>\n",
       "<style scoped>\n",
       "    .dataframe tbody tr th:only-of-type {\n",
       "        vertical-align: middle;\n",
       "    }\n",
       "\n",
       "    .dataframe tbody tr th {\n",
       "        vertical-align: top;\n",
       "    }\n",
       "\n",
       "    .dataframe thead th {\n",
       "        text-align: right;\n",
       "    }\n",
       "</style>\n",
       "<table border=\"1\" class=\"dataframe\">\n",
       "  <thead>\n",
       "    <tr style=\"text-align: right;\">\n",
       "      <th></th>\n",
       "      <th>Sales</th>\n",
       "      <th>date</th>\n",
       "      <th>Months</th>\n",
       "      <th>Aug</th>\n",
       "      <th>Dec</th>\n",
       "      <th>Feb</th>\n",
       "      <th>Jan</th>\n",
       "      <th>Jul</th>\n",
       "      <th>Jun</th>\n",
       "      <th>Mar</th>\n",
       "      <th>May</th>\n",
       "      <th>Nov</th>\n",
       "      <th>Oct</th>\n",
       "      <th>Sep</th>\n",
       "      <th>t</th>\n",
       "      <th>t_squared</th>\n",
       "      <th>log_Sales</th>\n",
       "    </tr>\n",
       "  </thead>\n",
       "  <tbody>\n",
       "    <tr>\n",
       "      <th>0</th>\n",
       "      <td>742</td>\n",
       "      <td>2049-01-01</td>\n",
       "      <td>Jan</td>\n",
       "      <td>0</td>\n",
       "      <td>0</td>\n",
       "      <td>0</td>\n",
       "      <td>1</td>\n",
       "      <td>0</td>\n",
       "      <td>0</td>\n",
       "      <td>0</td>\n",
       "      <td>0</td>\n",
       "      <td>0</td>\n",
       "      <td>0</td>\n",
       "      <td>0</td>\n",
       "      <td>1</td>\n",
       "      <td>1</td>\n",
       "      <td>6.609349</td>\n",
       "    </tr>\n",
       "    <tr>\n",
       "      <th>1</th>\n",
       "      <td>697</td>\n",
       "      <td>2049-02-01</td>\n",
       "      <td>Feb</td>\n",
       "      <td>0</td>\n",
       "      <td>0</td>\n",
       "      <td>1</td>\n",
       "      <td>0</td>\n",
       "      <td>0</td>\n",
       "      <td>0</td>\n",
       "      <td>0</td>\n",
       "      <td>0</td>\n",
       "      <td>0</td>\n",
       "      <td>0</td>\n",
       "      <td>0</td>\n",
       "      <td>2</td>\n",
       "      <td>4</td>\n",
       "      <td>6.546785</td>\n",
       "    </tr>\n",
       "    <tr>\n",
       "      <th>2</th>\n",
       "      <td>776</td>\n",
       "      <td>2049-03-01</td>\n",
       "      <td>Mar</td>\n",
       "      <td>0</td>\n",
       "      <td>0</td>\n",
       "      <td>0</td>\n",
       "      <td>0</td>\n",
       "      <td>0</td>\n",
       "      <td>0</td>\n",
       "      <td>1</td>\n",
       "      <td>0</td>\n",
       "      <td>0</td>\n",
       "      <td>0</td>\n",
       "      <td>0</td>\n",
       "      <td>3</td>\n",
       "      <td>9</td>\n",
       "      <td>6.654153</td>\n",
       "    </tr>\n",
       "    <tr>\n",
       "      <th>3</th>\n",
       "      <td>898</td>\n",
       "      <td>2049-04-01</td>\n",
       "      <td>Apr</td>\n",
       "      <td>0</td>\n",
       "      <td>0</td>\n",
       "      <td>0</td>\n",
       "      <td>0</td>\n",
       "      <td>0</td>\n",
       "      <td>0</td>\n",
       "      <td>0</td>\n",
       "      <td>0</td>\n",
       "      <td>0</td>\n",
       "      <td>0</td>\n",
       "      <td>0</td>\n",
       "      <td>4</td>\n",
       "      <td>16</td>\n",
       "      <td>6.800170</td>\n",
       "    </tr>\n",
       "    <tr>\n",
       "      <th>4</th>\n",
       "      <td>1030</td>\n",
       "      <td>2049-05-01</td>\n",
       "      <td>May</td>\n",
       "      <td>0</td>\n",
       "      <td>0</td>\n",
       "      <td>0</td>\n",
       "      <td>0</td>\n",
       "      <td>0</td>\n",
       "      <td>0</td>\n",
       "      <td>0</td>\n",
       "      <td>1</td>\n",
       "      <td>0</td>\n",
       "      <td>0</td>\n",
       "      <td>0</td>\n",
       "      <td>5</td>\n",
       "      <td>25</td>\n",
       "      <td>6.937314</td>\n",
       "    </tr>\n",
       "  </tbody>\n",
       "</table>\n",
       "</div>"
      ],
      "text/plain": [
       "   Sales       date Months  Aug  Dec  Feb  Jan  Jul  Jun  Mar  May  Nov  Oct  \\\n",
       "0    742 2049-01-01    Jan    0    0    0    1    0    0    0    0    0    0   \n",
       "1    697 2049-02-01    Feb    0    0    1    0    0    0    0    0    0    0   \n",
       "2    776 2049-03-01    Mar    0    0    0    0    0    0    1    0    0    0   \n",
       "3    898 2049-04-01    Apr    0    0    0    0    0    0    0    0    0    0   \n",
       "4   1030 2049-05-01    May    0    0    0    0    0    0    0    1    0    0   \n",
       "\n",
       "   Sep  t  t_squared  log_Sales  \n",
       "0    0  1          1   6.609349  \n",
       "1    0  2          4   6.546785  \n",
       "2    0  3          9   6.654153  \n",
       "3    0  4         16   6.800170  \n",
       "4    0  5         25   6.937314  "
      ]
     },
     "execution_count": 15,
     "metadata": {},
     "output_type": "execute_result"
    }
   ],
   "source": [
    "plastic.head()"
   ]
  },
  {
   "cell_type": "code",
   "execution_count": 16,
   "metadata": {},
   "outputs": [
    {
     "data": {
      "text/plain": [
       "<matplotlib.axes._subplots.AxesSubplot at 0x15a87774bc8>"
      ]
     },
     "execution_count": 16,
     "metadata": {},
     "output_type": "execute_result"
    },
    {
     "data": {
      "image/png": "[encoded data removed]",
      "text/plain": [
       "<Figure size 432x288 with 1 Axes>"
      ]
     },
     "metadata": {
      "needs_background": "light"
     },
     "output_type": "display_data"
    }
   ],
   "source": [
    "plastic.Sales.plot()"
   ]
  },
  {
   "cell_type": "code",
   "execution_count": 17,
   "metadata": {},
   "outputs": [
    {
     "data": {
      "text/plain": [
       "<matplotlib.axes._subplots.AxesSubplot at 0x15a87ecaf08>"
      ]
     },
     "execution_count": 17,
     "metadata": {},
     "output_type": "execute_result"
    },
    {
     "data": {
      "image/png": "[encoded data removed]",
      "text/plain": [
       "<Figure size 432x288 with 1 Axes>"
      ]
     },
     "metadata": {
      "needs_background": "light"
     },
     "output_type": "display_data"
    }
   ],
   "source": [
    "# Boxplot for ever\n",
    "sns.boxplot(x=\"Months\",y=\"Sales\",data=plastic)"
   ]
  },
  {
   "cell_type": "code",
   "execution_count": 18,
   "metadata": {},
   "outputs": [
    {
     "data": {
      "text/plain": [
       "<matplotlib.axes._subplots.AxesSubplot at 0x15a88060f88>"
      ]
     },
     "execution_count": 18,
     "metadata": {},
     "output_type": "execute_result"
    },
    {
     "data": {
      "image/png": "[encoded data removed]",
      "text/plain": [
       "<Figure size 432x288 with 1 Axes>"
      ]
     },
     "metadata": {
      "needs_background": "light"
     },
     "output_type": "display_data"
    }
   ],
   "source": [
    "# Line plot for Ridership based on year\n",
    "sns.lineplot(x=\"Months\",y=\"Sales\",data=plastic)"
   ]
  },
  {
   "cell_type": "code",
   "execution_count": 19,
   "metadata": {},
   "outputs": [
    {
     "data": {
      "text/plain": [
       "<matplotlib.legend.Legend at 0x15a8815ff48>"
      ]
     },
     "execution_count": 19,
     "metadata": {},
     "output_type": "execute_result"
    },
    {
     "data": {
      "image/png": "[encoded data removed]",
      "text/plain": [
       "<Figure size 432x288 with 1 Axes>"
      ]
     },
     "metadata": {
      "needs_background": "light"
     },
     "output_type": "display_data"
    }
   ],
   "source": [
    "# Centering moving average for the time series to understand better about the trend character in Plastic\n",
    "plastic.Sales.plot(label=\"org\")\n",
    "for i in range(2,24,6):\n",
    "    plastic[\"Sales\"].rolling(i).mean().plot(label=str(i))\n",
    "plt.legend(loc=3)"
   ]
  },
  {
   "cell_type": "code",
   "execution_count": 20,
   "metadata": {},
   "outputs": [
    {
     "name": "stderr",
     "output_type": "stream",
     "text": [
      "C:\\Users\\deshp\\anaconda3\\lib\\site-packages\\ipykernel_launcher.py:2: FutureWarning: the 'freq'' keyword is deprecated, use 'period' instead\n",
      "  \n"
     ]
    },
    {
     "data": {
      "image/png": "[encoded data removed]",
      "text/plain": [
       "<Figure size 432x288 with 4 Axes>"
      ]
     },
     "execution_count": 20,
     "metadata": {},
     "output_type": "execute_result"
    },
    {
     "data": {
      "image/png": "[encoded data removed]",
      "text/plain": [
       "<Figure size 432x288 with 4 Axes>"
      ]
     },
     "metadata": {
      "needs_background": "light"
     },
     "output_type": "display_data"
    }
   ],
   "source": [
    "# Time series decomposition plot \n",
    "decompose_ts_add = seasonal_decompose(plastic.Sales,model=\"additive\",freq=12)\n",
    "decompose_ts_add.plot()\n"
   ]
  },
  {
   "cell_type": "code",
   "execution_count": 21,
   "metadata": {},
   "outputs": [
    {
     "name": "stderr",
     "output_type": "stream",
     "text": [
      "C:\\Users\\deshp\\anaconda3\\lib\\site-packages\\ipykernel_launcher.py:2: FutureWarning: the 'freq'' keyword is deprecated, use 'period' instead\n",
      "  \n"
     ]
    },
    {
     "data": {
      "image/png": "[encoded data removed]",
      "text/plain": [
       "<Figure size 432x288 with 4 Axes>"
      ]
     },
     "execution_count": 21,
     "metadata": {},
     "output_type": "execute_result"
    },
    {
     "data": {
      "image/png": "[encoded data removed]",
      "text/plain": [
       "<Figure size 432x288 with 4 Axes>"
      ]
     },
     "metadata": {
      "needs_background": "light"
     },
     "output_type": "display_data"
    }
   ],
   "source": [
    "# Time series decomposition plot \n",
    "decompose_ts_mul = seasonal_decompose(plastic.Sales,model=\"multiplicative\",freq=12)\n",
    "decompose_ts_mul.plot()"
   ]
  },
  {
   "cell_type": "code",
   "execution_count": 22,
   "metadata": {},
   "outputs": [
    {
     "data": {
      "image/png": "[encoded data removed]",
      "text/plain": [
       "<Figure size 432x288 with 1 Axes>"
      ]
     },
     "execution_count": 22,
     "metadata": {},
     "output_type": "execute_result"
    },
    {
     "data": {
      "image/png": "[encoded data removed]",
      "text/plain": [
       "<Figure size 432x288 with 1 Axes>"
      ]
     },
     "metadata": {
      "needs_background": "light"
     },
     "output_type": "display_data"
    }
   ],
   "source": [
    "# ACF plots on Original data sets \n",
    "import statsmodels.graphics.tsaplots as tsa_plots\n",
    "tsa_plots.plot_acf(plastic.Sales,lags=12)\n"
   ]
  },
  {
   "cell_type": "code",
   "execution_count": 23,
   "metadata": {},
   "outputs": [
    {
     "data": {
      "image/png": "[encoded data removed]",
      "text/plain": [
       "<Figure size 432x288 with 1 Axes>"
      ]
     },
     "execution_count": 23,
     "metadata": {},
     "output_type": "execute_result"
    },
    {
     "data": {
      "image/png": "[encoded data removed]",
      "text/plain": [
       "<Figure size 432x288 with 1 Axes>"
      ]
     },
     "metadata": {
      "needs_background": "light"
     },
     "output_type": "display_data"
    }
   ],
   "source": [
    "# PACF plots on Original data sets\n",
    "tsa_plots.plot_pacf(plastic.Sales,lags=12)\n"
   ]
  },
  {
   "cell_type": "code",
   "execution_count": 24,
   "metadata": {},
   "outputs": [
    {
     "data": {
      "text/plain": [
       "60"
      ]
     },
     "execution_count": 24,
     "metadata": {},
     "output_type": "execute_result"
    }
   ],
   "source": [
    "len(plastic)"
   ]
  },
  {
   "cell_type": "code",
   "execution_count": 25,
   "metadata": {},
   "outputs": [],
   "source": [
    "Train = plastic.head(45)\n",
    "Test = plastic.tail(16)"
   ]
  },
  {
   "cell_type": "code",
   "execution_count": 26,
   "metadata": {},
   "outputs": [],
   "source": [
    "#train_len = len(plastic)-12\n",
    "#Train = plastic.iloc[:train_len]\n",
    "#Test = plastic.iloc[train_len:]"
   ]
  },
  {
   "cell_type": "code",
   "execution_count": 27,
   "metadata": {},
   "outputs": [
    {
     "data": {
      "text/plain": [
       "243.66924672552756"
      ]
     },
     "execution_count": 27,
     "metadata": {},
     "output_type": "execute_result"
    }
   ],
   "source": [
    "####################### L I N E A R ##########################\n",
    "import statsmodels.formula.api as smf \n",
    "\n",
    "linear_model = smf.ols('Sales~t',data=Train).fit()\n",
    "pred_linear =  pd.Series(linear_model.predict(pd.DataFrame(Test['t'])))\n",
    "rmse_linear = np.sqrt(np.mean((np.array(Test['Sales'])-np.array(pred_linear))**2))\n",
    "rmse_linear"
   ]
  },
  {
   "cell_type": "code",
   "execution_count": 28,
   "metadata": {},
   "outputs": [
    {
     "data": {
      "text/plain": [
       "250.3858496769739"
      ]
     },
     "execution_count": 28,
     "metadata": {},
     "output_type": "execute_result"
    }
   ],
   "source": [
    "##################### Exponential ##############################\n",
    "\n",
    "Exp = smf.ols('log_Sales~t',data=Train).fit()\n",
    "pred_Exp = pd.Series(Exp.predict(pd.DataFrame(Test['t'])))\n",
    "rmse_Exp = np.sqrt(np.mean((np.array(Test['Sales'])-np.array(np.exp(pred_Exp)))**2))\n",
    "rmse_Exp"
   ]
  },
  {
   "cell_type": "code",
   "execution_count": 29,
   "metadata": {},
   "outputs": [
    {
     "data": {
      "text/plain": [
       "274.36199693376443"
      ]
     },
     "execution_count": 29,
     "metadata": {},
     "output_type": "execute_result"
    }
   ],
   "source": [
    "#################### Quadratic ###############################\n",
    "\n",
    "Quad = smf.ols('Sales~t+t_squared',data=Train).fit()\n",
    "pred_Quad = pd.Series(Quad.predict(Test[[\"t\",\"t_squared\"]]))\n",
    "rmse_Quad = np.sqrt(np.mean((np.array(Test['Sales'])-np.array(pred_Quad))**2))\n",
    "rmse_Quad"
   ]
  },
  {
   "cell_type": "code",
   "execution_count": 30,
   "metadata": {},
   "outputs": [
    {
     "data": {
      "text/plain": [
       "253.81684857693725"
      ]
     },
     "execution_count": 30,
     "metadata": {},
     "output_type": "execute_result"
    }
   ],
   "source": [
    "################### Additive seasonality ########################\n",
    "\n",
    "add_sea = smf.ols('Sales~Jan+Feb+Mar+May+Jun+Jul+Aug+Sep+Oct+Nov+Dec',data=Train).fit()\n",
    "pred_add_sea = pd.Series(add_sea.predict(Test[['Jan','Feb','Mar','May','Jun','Jul','Aug','Sep','Oct','Nov','Dec']]))\n",
    "rmse_add_sea = np.sqrt(np.mean((np.array(Test['Sales'])-np.array(pred_add_sea))**2))\n",
    "rmse_add_sea"
   ]
  },
  {
   "cell_type": "code",
   "execution_count": 31,
   "metadata": {},
   "outputs": [
    {
     "data": {
      "text/plain": [
       "146.57790105366706"
      ]
     },
     "execution_count": 31,
     "metadata": {},
     "output_type": "execute_result"
    }
   ],
   "source": [
    "################# Additive Seasonality Quadratic ############################\n",
    "\n",
    "add_sea_Quad = smf.ols('Sales~t+t_squared+Jan+Feb+Mar+May+Jun+Jul+Aug+Sep+Oct+Nov+Dec',data=Train).fit()\n",
    "pred_add_sea_quad = pd.Series(add_sea_Quad.predict(Test[['Jan','Feb','Mar','May','Jun','Jul','Aug','Sep','Oct','Nov','Dec','t','t_squared']]))\n",
    "rmse_add_sea_quad = np.sqrt(np.mean((np.array(Test['Sales'])-np.array(pred_add_sea_quad))**2))\n",
    "rmse_add_sea_quad "
   ]
  },
  {
   "cell_type": "code",
   "execution_count": 32,
   "metadata": {},
   "outputs": [
    {
     "data": {
      "text/plain": [
       "258.38270506437794"
      ]
     },
     "execution_count": 32,
     "metadata": {},
     "output_type": "execute_result"
    }
   ],
   "source": [
    "################## Multiplicative Seasonality ##################\n",
    "\n",
    "Mul_sea = smf.ols('log_Sales~Jan+Feb+Mar+May+Jun+Jul+Aug+Sep+Oct+Nov+Dec',data = Train).fit()\n",
    "pred_Mult_sea = pd.Series(Mul_sea.predict(Test))\n",
    "rmse_Mult_sea = np.sqrt(np.mean((np.array(Test['Sales'])-np.array(np.exp(pred_Mult_sea)))**2))\n",
    "rmse_Mult_sea"
   ]
  },
  {
   "cell_type": "code",
   "execution_count": 33,
   "metadata": {},
   "outputs": [
    {
     "data": {
      "text/plain": [
       "129.13323511412977"
      ]
     },
     "execution_count": 33,
     "metadata": {},
     "output_type": "execute_result"
    }
   ],
   "source": [
    "##################Multiplicative Additive Seasonality ###########\n",
    "\n",
    "Mul_Add_sea = smf.ols('log_Sales~t+Jan+Feb+Mar+May+Jun+Jul+Aug+Sep+Oct+Nov+Dec',data = Train).fit()\n",
    "pred_Mult_add_sea = pd.Series(Mul_Add_sea.predict(Test))\n",
    "rmse_Mult_add_sea = np.sqrt(np.mean((np.array(Test['Sales'])-np.array(np.exp(pred_Mult_add_sea)))**2))\n",
    "rmse_Mult_add_sea"
   ]
  },
  {
   "cell_type": "code",
   "execution_count": 34,
   "metadata": {},
   "outputs": [],
   "source": [
    "################## Testing #######################################\n",
    "\n",
    "data = {\"MODEL\":pd.Series([\"rmse_linear\",\"rmse_Exp\",\"rmse_Quad\",\"rmse_add_sea\",\"rmse_add_sea_quad\",\"rmse_Mult_sea\",\n",
    "\"rmse_Mult_add_sea\"]),\"RMSE_Values\":pd.Series([rmse_linear,rmse_Exp,rmse_Quad,rmse_add_sea,rmse_add_sea_quad,rmse_Mult_sea,\n",
    "                                               rmse_Mult_add_sea])}\n"
   ]
  },
  {
   "cell_type": "code",
   "execution_count": 35,
   "metadata": {},
   "outputs": [
    {
     "data": {
      "text/html": [
       "<div>\n",
       "<style scoped>\n",
       "    .dataframe tbody tr th:only-of-type {\n",
       "        vertical-align: middle;\n",
       "    }\n",
       "\n",
       "    .dataframe tbody tr th {\n",
       "        vertical-align: top;\n",
       "    }\n",
       "\n",
       "    .dataframe thead th {\n",
       "        text-align: right;\n",
       "    }\n",
       "</style>\n",
       "<table border=\"1\" class=\"dataframe\">\n",
       "  <thead>\n",
       "    <tr style=\"text-align: right;\">\n",
       "      <th></th>\n",
       "      <th>MODEL</th>\n",
       "      <th>RMSE_Values</th>\n",
       "    </tr>\n",
       "  </thead>\n",
       "  <tbody>\n",
       "    <tr>\n",
       "      <th>0</th>\n",
       "      <td>rmse_linear</td>\n",
       "      <td>243.669247</td>\n",
       "    </tr>\n",
       "    <tr>\n",
       "      <th>1</th>\n",
       "      <td>rmse_Exp</td>\n",
       "      <td>250.385850</td>\n",
       "    </tr>\n",
       "    <tr>\n",
       "      <th>2</th>\n",
       "      <td>rmse_Quad</td>\n",
       "      <td>274.361997</td>\n",
       "    </tr>\n",
       "    <tr>\n",
       "      <th>3</th>\n",
       "      <td>rmse_add_sea</td>\n",
       "      <td>253.816849</td>\n",
       "    </tr>\n",
       "    <tr>\n",
       "      <th>4</th>\n",
       "      <td>rmse_add_sea_quad</td>\n",
       "      <td>146.577901</td>\n",
       "    </tr>\n",
       "    <tr>\n",
       "      <th>5</th>\n",
       "      <td>rmse_Mult_sea</td>\n",
       "      <td>258.382705</td>\n",
       "    </tr>\n",
       "    <tr>\n",
       "      <th>6</th>\n",
       "      <td>rmse_Mult_add_sea</td>\n",
       "      <td>129.133235</td>\n",
       "    </tr>\n",
       "  </tbody>\n",
       "</table>\n",
       "</div>"
      ],
      "text/plain": [
       "               MODEL  RMSE_Values\n",
       "0        rmse_linear   243.669247\n",
       "1           rmse_Exp   250.385850\n",
       "2          rmse_Quad   274.361997\n",
       "3       rmse_add_sea   253.816849\n",
       "4  rmse_add_sea_quad   146.577901\n",
       "5      rmse_Mult_sea   258.382705\n",
       "6  rmse_Mult_add_sea   129.133235"
      ]
     },
     "execution_count": 35,
     "metadata": {},
     "output_type": "execute_result"
    }
   ],
   "source": [
    "table_rmse=pd.DataFrame(data)\n",
    "table_rmse\n"
   ]
  },
  {
   "cell_type": "code",
   "execution_count": 36,
   "metadata": {},
   "outputs": [],
   "source": [
    "#Predicting new values \n",
    "\n",
    "model_full = smf.ols('log_Sales~t+Jan+Feb+Mar+May+Jun+Jul+Aug+Sep+Oct+Nov+Dec',data = Train).fit()\n"
   ]
  },
  {
   "cell_type": "code",
   "execution_count": 37,
   "metadata": {},
   "outputs": [
    {
     "data": {
      "text/plain": [
       "44    1587.449783\n",
       "45    1523.152755\n",
       "46    1261.885119\n",
       "47    1061.906915\n",
       "48    1021.648441\n",
       "49     938.157179\n",
       "50    1037.674190\n",
       "51    1228.408691\n",
       "52    1417.527604\n",
       "53    1560.910911\n",
       "54    1612.848342\n",
       "55    1708.367915\n",
       "56    1727.227415\n",
       "57    1657.268925\n",
       "58    1372.996233\n",
       "59    1155.409611\n",
       "dtype: float64"
      ]
     },
     "execution_count": 37,
     "metadata": {},
     "output_type": "execute_result"
    }
   ],
   "source": [
    "pred_new  = pd.Series(Mul_Add_sea.predict(Test))\n",
    "pred_new1=np.exp(pred_new)\n",
    "\n",
    "pred_new1"
   ]
  },
  {
   "cell_type": "code",
   "execution_count": 38,
   "metadata": {},
   "outputs": [
    {
     "name": "stderr",
     "output_type": "stream",
     "text": [
      "C:\\Users\\deshp\\anaconda3\\lib\\site-packages\\ipykernel_launcher.py:1: SettingWithCopyWarning: \n",
      "A value is trying to be set on a copy of a slice from a DataFrame.\n",
      "Try using .loc[row_indexer,col_indexer] = value instead\n",
      "\n",
      "See the caveats in the documentation: https://pandas.pydata.org/pandas-docs/stable/user_guide/indexing.html#returning-a-view-versus-a-copy\n",
      "  \"\"\"Entry point for launching an IPython kernel.\n"
     ]
    },
    {
     "data": {
      "text/html": [
       "<div>\n",
       "<style scoped>\n",
       "    .dataframe tbody tr th:only-of-type {\n",
       "        vertical-align: middle;\n",
       "    }\n",
       "\n",
       "    .dataframe tbody tr th {\n",
       "        vertical-align: top;\n",
       "    }\n",
       "\n",
       "    .dataframe thead th {\n",
       "        text-align: right;\n",
       "    }\n",
       "</style>\n",
       "<table border=\"1\" class=\"dataframe\">\n",
       "  <thead>\n",
       "    <tr style=\"text-align: right;\">\n",
       "      <th></th>\n",
       "      <th>Sales</th>\n",
       "      <th>date</th>\n",
       "      <th>Months</th>\n",
       "      <th>Aug</th>\n",
       "      <th>Dec</th>\n",
       "      <th>Feb</th>\n",
       "      <th>Jan</th>\n",
       "      <th>Jul</th>\n",
       "      <th>Jun</th>\n",
       "      <th>Mar</th>\n",
       "      <th>May</th>\n",
       "      <th>Nov</th>\n",
       "      <th>Oct</th>\n",
       "      <th>Sep</th>\n",
       "      <th>t</th>\n",
       "      <th>t_squared</th>\n",
       "      <th>log_Sales</th>\n",
       "      <th>forecasted_Sales</th>\n",
       "    </tr>\n",
       "  </thead>\n",
       "  <tbody>\n",
       "    <tr>\n",
       "      <th>44</th>\n",
       "      <td>1604</td>\n",
       "      <td>2052-09-01</td>\n",
       "      <td>Sep</td>\n",
       "      <td>0</td>\n",
       "      <td>0</td>\n",
       "      <td>0</td>\n",
       "      <td>0</td>\n",
       "      <td>0</td>\n",
       "      <td>0</td>\n",
       "      <td>0</td>\n",
       "      <td>0</td>\n",
       "      <td>0</td>\n",
       "      <td>0</td>\n",
       "      <td>1</td>\n",
       "      <td>45</td>\n",
       "      <td>2025</td>\n",
       "      <td>7.380256</td>\n",
       "      <td>1587.449783</td>\n",
       "    </tr>\n",
       "    <tr>\n",
       "      <th>45</th>\n",
       "      <td>1600</td>\n",
       "      <td>2052-10-01</td>\n",
       "      <td>Oct</td>\n",
       "      <td>0</td>\n",
       "      <td>0</td>\n",
       "      <td>0</td>\n",
       "      <td>0</td>\n",
       "      <td>0</td>\n",
       "      <td>0</td>\n",
       "      <td>0</td>\n",
       "      <td>0</td>\n",
       "      <td>0</td>\n",
       "      <td>1</td>\n",
       "      <td>0</td>\n",
       "      <td>46</td>\n",
       "      <td>2116</td>\n",
       "      <td>7.377759</td>\n",
       "      <td>1523.152755</td>\n",
       "    </tr>\n",
       "    <tr>\n",
       "      <th>46</th>\n",
       "      <td>1403</td>\n",
       "      <td>2052-11-01</td>\n",
       "      <td>Nov</td>\n",
       "      <td>0</td>\n",
       "      <td>0</td>\n",
       "      <td>0</td>\n",
       "      <td>0</td>\n",
       "      <td>0</td>\n",
       "      <td>0</td>\n",
       "      <td>0</td>\n",
       "      <td>0</td>\n",
       "      <td>1</td>\n",
       "      <td>0</td>\n",
       "      <td>0</td>\n",
       "      <td>47</td>\n",
       "      <td>2209</td>\n",
       "      <td>7.246368</td>\n",
       "      <td>1261.885119</td>\n",
       "    </tr>\n",
       "    <tr>\n",
       "      <th>47</th>\n",
       "      <td>1209</td>\n",
       "      <td>2052-12-01</td>\n",
       "      <td>Dec</td>\n",
       "      <td>0</td>\n",
       "      <td>1</td>\n",
       "      <td>0</td>\n",
       "      <td>0</td>\n",
       "      <td>0</td>\n",
       "      <td>0</td>\n",
       "      <td>0</td>\n",
       "      <td>0</td>\n",
       "      <td>0</td>\n",
       "      <td>0</td>\n",
       "      <td>0</td>\n",
       "      <td>48</td>\n",
       "      <td>2304</td>\n",
       "      <td>7.097549</td>\n",
       "      <td>1061.906915</td>\n",
       "    </tr>\n",
       "    <tr>\n",
       "      <th>48</th>\n",
       "      <td>1030</td>\n",
       "      <td>2053-01-01</td>\n",
       "      <td>Jan</td>\n",
       "      <td>0</td>\n",
       "      <td>0</td>\n",
       "      <td>0</td>\n",
       "      <td>1</td>\n",
       "      <td>0</td>\n",
       "      <td>0</td>\n",
       "      <td>0</td>\n",
       "      <td>0</td>\n",
       "      <td>0</td>\n",
       "      <td>0</td>\n",
       "      <td>0</td>\n",
       "      <td>49</td>\n",
       "      <td>2401</td>\n",
       "      <td>6.937314</td>\n",
       "      <td>1021.648441</td>\n",
       "    </tr>\n",
       "    <tr>\n",
       "      <th>49</th>\n",
       "      <td>1032</td>\n",
       "      <td>2053-02-01</td>\n",
       "      <td>Feb</td>\n",
       "      <td>0</td>\n",
       "      <td>0</td>\n",
       "      <td>1</td>\n",
       "      <td>0</td>\n",
       "      <td>0</td>\n",
       "      <td>0</td>\n",
       "      <td>0</td>\n",
       "      <td>0</td>\n",
       "      <td>0</td>\n",
       "      <td>0</td>\n",
       "      <td>0</td>\n",
       "      <td>50</td>\n",
       "      <td>2500</td>\n",
       "      <td>6.939254</td>\n",
       "      <td>938.157179</td>\n",
       "    </tr>\n",
       "    <tr>\n",
       "      <th>50</th>\n",
       "      <td>1126</td>\n",
       "      <td>2053-03-01</td>\n",
       "      <td>Mar</td>\n",
       "      <td>0</td>\n",
       "      <td>0</td>\n",
       "      <td>0</td>\n",
       "      <td>0</td>\n",
       "      <td>0</td>\n",
       "      <td>0</td>\n",
       "      <td>1</td>\n",
       "      <td>0</td>\n",
       "      <td>0</td>\n",
       "      <td>0</td>\n",
       "      <td>0</td>\n",
       "      <td>51</td>\n",
       "      <td>2601</td>\n",
       "      <td>7.026427</td>\n",
       "      <td>1037.674190</td>\n",
       "    </tr>\n",
       "    <tr>\n",
       "      <th>51</th>\n",
       "      <td>1285</td>\n",
       "      <td>2053-04-01</td>\n",
       "      <td>Apr</td>\n",
       "      <td>0</td>\n",
       "      <td>0</td>\n",
       "      <td>0</td>\n",
       "      <td>0</td>\n",
       "      <td>0</td>\n",
       "      <td>0</td>\n",
       "      <td>0</td>\n",
       "      <td>0</td>\n",
       "      <td>0</td>\n",
       "      <td>0</td>\n",
       "      <td>0</td>\n",
       "      <td>52</td>\n",
       "      <td>2704</td>\n",
       "      <td>7.158514</td>\n",
       "      <td>1228.408691</td>\n",
       "    </tr>\n",
       "    <tr>\n",
       "      <th>52</th>\n",
       "      <td>1468</td>\n",
       "      <td>2053-05-01</td>\n",
       "      <td>May</td>\n",
       "      <td>0</td>\n",
       "      <td>0</td>\n",
       "      <td>0</td>\n",
       "      <td>0</td>\n",
       "      <td>0</td>\n",
       "      <td>0</td>\n",
       "      <td>0</td>\n",
       "      <td>1</td>\n",
       "      <td>0</td>\n",
       "      <td>0</td>\n",
       "      <td>0</td>\n",
       "      <td>53</td>\n",
       "      <td>2809</td>\n",
       "      <td>7.291656</td>\n",
       "      <td>1417.527604</td>\n",
       "    </tr>\n",
       "    <tr>\n",
       "      <th>53</th>\n",
       "      <td>1637</td>\n",
       "      <td>2053-06-01</td>\n",
       "      <td>Jun</td>\n",
       "      <td>0</td>\n",
       "      <td>0</td>\n",
       "      <td>0</td>\n",
       "      <td>0</td>\n",
       "      <td>0</td>\n",
       "      <td>1</td>\n",
       "      <td>0</td>\n",
       "      <td>0</td>\n",
       "      <td>0</td>\n",
       "      <td>0</td>\n",
       "      <td>0</td>\n",
       "      <td>54</td>\n",
       "      <td>2916</td>\n",
       "      <td>7.400621</td>\n",
       "      <td>1560.910911</td>\n",
       "    </tr>\n",
       "    <tr>\n",
       "      <th>54</th>\n",
       "      <td>1611</td>\n",
       "      <td>2053-07-01</td>\n",
       "      <td>Jul</td>\n",
       "      <td>0</td>\n",
       "      <td>0</td>\n",
       "      <td>0</td>\n",
       "      <td>0</td>\n",
       "      <td>1</td>\n",
       "      <td>0</td>\n",
       "      <td>0</td>\n",
       "      <td>0</td>\n",
       "      <td>0</td>\n",
       "      <td>0</td>\n",
       "      <td>0</td>\n",
       "      <td>55</td>\n",
       "      <td>3025</td>\n",
       "      <td>7.384610</td>\n",
       "      <td>1612.848342</td>\n",
       "    </tr>\n",
       "    <tr>\n",
       "      <th>55</th>\n",
       "      <td>1608</td>\n",
       "      <td>2053-08-01</td>\n",
       "      <td>Aug</td>\n",
       "      <td>1</td>\n",
       "      <td>0</td>\n",
       "      <td>0</td>\n",
       "      <td>0</td>\n",
       "      <td>0</td>\n",
       "      <td>0</td>\n",
       "      <td>0</td>\n",
       "      <td>0</td>\n",
       "      <td>0</td>\n",
       "      <td>0</td>\n",
       "      <td>0</td>\n",
       "      <td>56</td>\n",
       "      <td>3136</td>\n",
       "      <td>7.382746</td>\n",
       "      <td>1708.367915</td>\n",
       "    </tr>\n",
       "    <tr>\n",
       "      <th>56</th>\n",
       "      <td>1528</td>\n",
       "      <td>2053-09-01</td>\n",
       "      <td>Sep</td>\n",
       "      <td>0</td>\n",
       "      <td>0</td>\n",
       "      <td>0</td>\n",
       "      <td>0</td>\n",
       "      <td>0</td>\n",
       "      <td>0</td>\n",
       "      <td>0</td>\n",
       "      <td>0</td>\n",
       "      <td>0</td>\n",
       "      <td>0</td>\n",
       "      <td>1</td>\n",
       "      <td>57</td>\n",
       "      <td>3249</td>\n",
       "      <td>7.331715</td>\n",
       "      <td>1727.227415</td>\n",
       "    </tr>\n",
       "    <tr>\n",
       "      <th>57</th>\n",
       "      <td>1420</td>\n",
       "      <td>2053-10-01</td>\n",
       "      <td>Oct</td>\n",
       "      <td>0</td>\n",
       "      <td>0</td>\n",
       "      <td>0</td>\n",
       "      <td>0</td>\n",
       "      <td>0</td>\n",
       "      <td>0</td>\n",
       "      <td>0</td>\n",
       "      <td>0</td>\n",
       "      <td>0</td>\n",
       "      <td>1</td>\n",
       "      <td>0</td>\n",
       "      <td>58</td>\n",
       "      <td>3364</td>\n",
       "      <td>7.258412</td>\n",
       "      <td>1657.268925</td>\n",
       "    </tr>\n",
       "    <tr>\n",
       "      <th>58</th>\n",
       "      <td>1119</td>\n",
       "      <td>2053-11-01</td>\n",
       "      <td>Nov</td>\n",
       "      <td>0</td>\n",
       "      <td>0</td>\n",
       "      <td>0</td>\n",
       "      <td>0</td>\n",
       "      <td>0</td>\n",
       "      <td>0</td>\n",
       "      <td>0</td>\n",
       "      <td>0</td>\n",
       "      <td>1</td>\n",
       "      <td>0</td>\n",
       "      <td>0</td>\n",
       "      <td>59</td>\n",
       "      <td>3481</td>\n",
       "      <td>7.020191</td>\n",
       "      <td>1372.996233</td>\n",
       "    </tr>\n",
       "    <tr>\n",
       "      <th>59</th>\n",
       "      <td>1013</td>\n",
       "      <td>2053-12-01</td>\n",
       "      <td>Dec</td>\n",
       "      <td>0</td>\n",
       "      <td>1</td>\n",
       "      <td>0</td>\n",
       "      <td>0</td>\n",
       "      <td>0</td>\n",
       "      <td>0</td>\n",
       "      <td>0</td>\n",
       "      <td>0</td>\n",
       "      <td>0</td>\n",
       "      <td>0</td>\n",
       "      <td>0</td>\n",
       "      <td>60</td>\n",
       "      <td>3600</td>\n",
       "      <td>6.920672</td>\n",
       "      <td>1155.409611</td>\n",
       "    </tr>\n",
       "  </tbody>\n",
       "</table>\n",
       "</div>"
      ],
      "text/plain": [
       "    Sales       date Months  Aug  Dec  Feb  Jan  Jul  Jun  Mar  May  Nov  Oct  \\\n",
       "44   1604 2052-09-01    Sep    0    0    0    0    0    0    0    0    0    0   \n",
       "45   1600 2052-10-01    Oct    0    0    0    0    0    0    0    0    0    1   \n",
       "46   1403 2052-11-01    Nov    0    0    0    0    0    0    0    0    1    0   \n",
       "47   1209 2052-12-01    Dec    0    1    0    0    0    0    0    0    0    0   \n",
       "48   1030 2053-01-01    Jan    0    0    0    1    0    0    0    0    0    0   \n",
       "49   1032 2053-02-01    Feb    0    0    1    0    0    0    0    0    0    0   \n",
       "50   1126 2053-03-01    Mar    0    0    0    0    0    0    1    0    0    0   \n",
       "51   1285 2053-04-01    Apr    0    0    0    0    0    0    0    0    0    0   \n",
       "52   1468 2053-05-01    May    0    0    0    0    0    0    0    1    0    0   \n",
       "53   1637 2053-06-01    Jun    0    0    0    0    0    1    0    0    0    0   \n",
       "54   1611 2053-07-01    Jul    0    0    0    0    1    0    0    0    0    0   \n",
       "55   1608 2053-08-01    Aug    1    0    0    0    0    0    0    0    0    0   \n",
       "56   1528 2053-09-01    Sep    0    0    0    0    0    0    0    0    0    0   \n",
       "57   1420 2053-10-01    Oct    0    0    0    0    0    0    0    0    0    1   \n",
       "58   1119 2053-11-01    Nov    0    0    0    0    0    0    0    0    1    0   \n",
       "59   1013 2053-12-01    Dec    0    1    0    0    0    0    0    0    0    0   \n",
       "\n",
       "    Sep   t  t_squared  log_Sales  forecasted_Sales  \n",
       "44    1  45       2025   7.380256       1587.449783  \n",
       "45    0  46       2116   7.377759       1523.152755  \n",
       "46    0  47       2209   7.246368       1261.885119  \n",
       "47    0  48       2304   7.097549       1061.906915  \n",
       "48    0  49       2401   6.937314       1021.648441  \n",
       "49    0  50       2500   6.939254        938.157179  \n",
       "50    0  51       2601   7.026427       1037.674190  \n",
       "51    0  52       2704   7.158514       1228.408691  \n",
       "52    0  53       2809   7.291656       1417.527604  \n",
       "53    0  54       2916   7.400621       1560.910911  \n",
       "54    0  55       3025   7.384610       1612.848342  \n",
       "55    0  56       3136   7.382746       1708.367915  \n",
       "56    1  57       3249   7.331715       1727.227415  \n",
       "57    0  58       3364   7.258412       1657.268925  \n",
       "58    0  59       3481   7.020191       1372.996233  \n",
       "59    0  60       3600   6.920672       1155.409611  "
      ]
     },
     "execution_count": 38,
     "metadata": {},
     "output_type": "execute_result"
    }
   ],
   "source": [
    "Test[\"forecasted_Sales\"] = pd.Series(pred_new1)\n",
    "\n",
    "Test"
   ]
  },
  {
   "cell_type": "code",
   "execution_count": 39,
   "metadata": {},
   "outputs": [],
   "source": [
    "# Creating a function to calculate the MAPE value for test data \n",
    "def MAPE(pred,org):\n",
    "    temp = np.abs((pred-org)/org)*100\n",
    "    return np.mean(temp)\n"
   ]
  },
  {
   "cell_type": "code",
   "execution_count": 40,
   "metadata": {},
   "outputs": [
    {
     "name": "stderr",
     "output_type": "stream",
     "text": [
      "C:\\Users\\deshp\\anaconda3\\lib\\site-packages\\statsmodels\\tsa\\holtwinters.py:731: RuntimeWarning: invalid value encountered in greater_equal\n",
      "  loc = initial_p >= ub\n"
     ]
    },
    {
     "data": {
      "text/plain": [
       "22.51952248222201"
      ]
     },
     "execution_count": 40,
     "metadata": {},
     "output_type": "execute_result"
    }
   ],
   "source": [
    "# Simple Exponential Method\n",
    "ses_model = SimpleExpSmoothing(Train[\"Sales\"]).fit()\n",
    "pred_ses = ses_model.predict(start = Test.index[0],end = Test.index[-1])\n",
    "MAPE(pred_ses,Test.Sales) \n"
   ]
  },
  {
   "cell_type": "code",
   "execution_count": 41,
   "metadata": {},
   "outputs": [
    {
     "data": {
      "text/plain": [
       "50.64974553844403"
      ]
     },
     "execution_count": 41,
     "metadata": {},
     "output_type": "execute_result"
    }
   ],
   "source": [
    "# Holt method \n",
    "hw_model = Holt(Train[\"Sales\"]).fit()\n",
    "pred_hw = hw_model.predict(start = Test.index[0],end = Test.index[-1])\n",
    "MAPE(pred_hw,Test.Sales) \n"
   ]
  },
  {
   "cell_type": "code",
   "execution_count": 42,
   "metadata": {},
   "outputs": [
    {
     "name": "stderr",
     "output_type": "stream",
     "text": [
      "C:\\Users\\deshp\\anaconda3\\lib\\site-packages\\statsmodels\\tsa\\holtwinters.py:725: RuntimeWarning: invalid value encountered in less_equal\n",
      "  loc = initial_p <= lb\n",
      "C:\\Users\\deshp\\anaconda3\\lib\\site-packages\\statsmodels\\tsa\\holtwinters.py:744: ConvergenceWarning: Optimization failed to converge. Check mle_retvals.\n",
      "  ConvergenceWarning)\n"
     ]
    },
    {
     "data": {
      "text/plain": [
       "8.44806563443182"
      ]
     },
     "execution_count": 42,
     "metadata": {},
     "output_type": "execute_result"
    }
   ],
   "source": [
    "# Holts winter exponential smoothing with additive seasonality and additive trend\n",
    "hwe_model_add_add = ExponentialSmoothing(Train[\"Sales\"],seasonal=\"add\",trend=\"add\",seasonal_periods=12).fit()\n",
    "pred_hwe_add_add = hwe_model_add_add.predict(start = Test.index[0],end = Test.index[-1])\n",
    "MAPE(pred_hwe_add_add,Test.Sales) \n"
   ]
  },
  {
   "cell_type": "code",
   "execution_count": 43,
   "metadata": {},
   "outputs": [
    {
     "name": "stderr",
     "output_type": "stream",
     "text": [
      "C:\\Users\\deshp\\anaconda3\\lib\\site-packages\\statsmodels\\tsa\\holtwinters.py:744: ConvergenceWarning: Optimization failed to converge. Check mle_retvals.\n",
      "  ConvergenceWarning)\n"
     ]
    }
   ],
   "source": [
    "hwe_model_add_add = ExponentialSmoothing(plastic[\"Sales\"],seasonal=\"add\",trend=\"add\",seasonal_periods=12).fit()\n",
    "pred_hwe_add_add = hwe_model_add_add.predict(start = plastic.index[0],end = plastic.index[-1])\n"
   ]
  },
  {
   "cell_type": "code",
   "execution_count": 44,
   "metadata": {},
   "outputs": [
    {
     "data": {
      "text/plain": [
       "8.005075286266093"
      ]
     },
     "execution_count": 44,
     "metadata": {},
     "output_type": "execute_result"
    }
   ],
   "source": [
    "# Holts winter exponential smoothing with multiplicative seasonality and additive trend\n",
    "hwe_model_mul_add = ExponentialSmoothing(Train[\"Sales\"],seasonal=\"mul\",trend=\"add\",seasonal_periods=12).fit()\n",
    "pred_hwe_mul_add = hwe_model_mul_add.predict(start = Test.index[0],end = Test.index[-1])\n",
    "MAPE(pred_hwe_mul_add,Test.Sales) \n"
   ]
  },
  {
   "cell_type": "code",
   "execution_count": 45,
   "metadata": {},
   "outputs": [],
   "source": [
    "# Lets us use auto_arima from p\n",
    "from pmdarima.arima import auto_arima"
   ]
  },
  {
   "cell_type": "code",
   "execution_count": 46,
   "metadata": {},
   "outputs": [
    {
     "name": "stdout",
     "output_type": "stream",
     "text": [
      "Fit ARIMA(0,1,0)x(0,1,0,12) [intercept=True]; AIC=332.496, BIC=335.427, Time=0.021 seconds\n",
      "Fit ARIMA(0,1,0)x(0,1,1,12) [intercept=True]; AIC=332.150, BIC=336.547, Time=0.106 seconds\n",
      "Fit ARIMA(0,1,0)x(0,1,2,12) [intercept=True]; AIC=333.809, BIC=339.672, Time=1.060 seconds\n",
      "Fit ARIMA(0,1,0)x(1,1,0,12) [intercept=True]; AIC=332.286, BIC=336.683, Time=0.214 seconds\n",
      "Fit ARIMA(0,1,0)x(1,1,1,12) [intercept=True]; AIC=333.947, BIC=339.810, Time=0.623 seconds\n",
      "Fit ARIMA(0,1,0)x(1,1,2,12) [intercept=True]; AIC=335.560, BIC=342.889, Time=1.756 seconds\n",
      "Fit ARIMA(0,1,0)x(2,1,0,12) [intercept=True]; AIC=333.308, BIC=339.171, Time=0.972 seconds\n",
      "Fit ARIMA(0,1,0)x(2,1,1,12) [intercept=True]; AIC=335.314, BIC=342.643, Time=1.436 seconds\n",
      "Fit ARIMA(0,1,0)x(2,1,2,12) [intercept=True]; AIC=337.316, BIC=346.110, Time=2.286 seconds\n",
      "Fit ARIMA(0,1,1)x(0,1,0,12) [intercept=True]; AIC=332.137, BIC=336.534, Time=0.116 seconds\n",
      "Fit ARIMA(0,1,1)x(0,1,1,12) [intercept=True]; AIC=331.711, BIC=337.574, Time=0.290 seconds\n",
      "Fit ARIMA(0,1,1)x(0,1,2,12) [intercept=True]; AIC=333.214, BIC=340.542, Time=1.795 seconds\n",
      "Fit ARIMA(0,1,1)x(1,1,0,12) [intercept=True]; AIC=331.623, BIC=337.486, Time=0.179 seconds\n",
      "Fit ARIMA(0,1,1)x(1,1,1,12) [intercept=True]; AIC=333.379, BIC=340.708, Time=0.868 seconds\n",
      "Fit ARIMA(0,1,1)x(1,1,2,12) [intercept=True]; AIC=335.215, BIC=344.009, Time=1.785 seconds\n",
      "Fit ARIMA(0,1,1)x(2,1,0,12) [intercept=True]; AIC=333.212, BIC=340.540, Time=1.233 seconds\n",
      "Fit ARIMA(0,1,1)x(2,1,1,12) [intercept=True]; AIC=335.214, BIC=344.009, Time=1.211 seconds\n",
      "Fit ARIMA(0,1,1)x(2,1,2,12) [intercept=True]; AIC=337.215, BIC=347.476, Time=2.523 seconds\n",
      "Fit ARIMA(0,1,2)x(0,1,0,12) [intercept=True]; AIC=334.072, BIC=339.935, Time=0.173 seconds\n",
      "Fit ARIMA(0,1,2)x(0,1,1,12) [intercept=True]; AIC=333.689, BIC=341.018, Time=0.456 seconds\n",
      "Fit ARIMA(0,1,2)x(0,1,2,12) [intercept=True]; AIC=335.142, BIC=343.936, Time=2.059 seconds\n",
      "Fit ARIMA(0,1,2)x(1,1,0,12) [intercept=True]; AIC=333.594, BIC=340.923, Time=0.399 seconds\n",
      "Fit ARIMA(0,1,2)x(1,1,1,12) [intercept=True]; AIC=335.331, BIC=344.125, Time=0.948 seconds\n",
      "Fit ARIMA(0,1,2)x(1,1,2,12) [intercept=True]; AIC=337.141, BIC=347.401, Time=2.330 seconds\n",
      "Fit ARIMA(0,1,2)x(2,1,0,12) [intercept=True]; AIC=335.138, BIC=343.932, Time=1.761 seconds\n",
      "Fit ARIMA(0,1,2)x(2,1,1,12) [intercept=True]; AIC=337.140, BIC=347.400, Time=1.547 seconds\n",
      "Fit ARIMA(0,1,3)x(0,1,0,12) [intercept=True]; AIC=335.303, BIC=342.631, Time=0.474 seconds\n",
      "Fit ARIMA(0,1,3)x(0,1,1,12) [intercept=True]; AIC=335.016, BIC=343.810, Time=0.732 seconds\n",
      "Fit ARIMA(0,1,3)x(0,1,2,12) [intercept=True]; AIC=334.818, BIC=345.078, Time=1.781 seconds\n",
      "Fit ARIMA(0,1,3)x(1,1,0,12) [intercept=True]; AIC=334.789, BIC=343.583, Time=0.608 seconds\n",
      "Fit ARIMA(0,1,3)x(1,1,1,12) [intercept=True]; AIC=335.461, BIC=345.721, Time=1.308 seconds\n",
      "Fit ARIMA(0,1,3)x(2,1,0,12) [intercept=True]; AIC=334.549, BIC=344.809, Time=1.751 seconds\n",
      "Fit ARIMA(0,1,4)x(0,1,0,12) [intercept=True]; AIC=336.509, BIC=345.304, Time=0.405 seconds\n",
      "Fit ARIMA(0,1,4)x(0,1,1,12) [intercept=True]; AIC=336.512, BIC=346.772, Time=0.877 seconds\n",
      "Fit ARIMA(0,1,4)x(1,1,0,12) [intercept=True]; AIC=336.119, BIC=346.380, Time=0.755 seconds\n",
      "Fit ARIMA(0,1,5)x(0,1,0,12) [intercept=True]; AIC=337.929, BIC=348.189, Time=0.587 seconds\n",
      "Fit ARIMA(1,1,0)x(0,1,0,12) [intercept=True]; AIC=332.350, BIC=336.748, Time=0.083 seconds\n",
      "Fit ARIMA(1,1,0)x(0,1,1,12) [intercept=True]; AIC=331.872, BIC=337.735, Time=0.263 seconds\n",
      "Fit ARIMA(1,1,0)x(0,1,2,12) [intercept=True]; AIC=333.605, BIC=340.934, Time=1.713 seconds\n",
      "Fit ARIMA(1,1,0)x(1,1,0,12) [intercept=True]; AIC=331.823, BIC=337.686, Time=0.290 seconds\n",
      "Fit ARIMA(1,1,0)x(1,1,1,12) [intercept=True]; AIC=333.678, BIC=341.006, Time=0.897 seconds\n",
      "Fit ARIMA(1,1,0)x(1,1,2,12) [intercept=True]; AIC=335.609, BIC=344.403, Time=1.379 seconds\n",
      "Fit ARIMA(1,1,0)x(2,1,0,12) [intercept=True]; AIC=333.608, BIC=340.936, Time=1.285 seconds\n",
      "Fit ARIMA(1,1,0)x(2,1,1,12) [intercept=True]; AIC=335.610, BIC=344.405, Time=1.469 seconds\n",
      "Fit ARIMA(1,1,0)x(2,1,2,12) [intercept=True]; AIC=337.609, BIC=347.869, Time=1.093 seconds\n",
      "Fit ARIMA(1,1,1)x(0,1,0,12) [intercept=True]; AIC=332.408, BIC=338.271, Time=0.294 seconds\n",
      "Fit ARIMA(1,1,1)x(0,1,1,12) [intercept=True]; AIC=332.268, BIC=339.597, Time=0.882 seconds\n",
      "Fit ARIMA(1,1,1)x(0,1,2,12) [intercept=True]; AIC=332.806, BIC=341.601, Time=2.122 seconds\n",
      "Fit ARIMA(1,1,1)x(1,1,0,12) [intercept=True]; AIC=331.991, BIC=339.320, Time=0.820 seconds\n",
      "Fit ARIMA(1,1,1)x(1,1,1,12) [intercept=True]; AIC=333.307, BIC=342.101, Time=1.048 seconds\n",
      "Fit ARIMA(1,1,1)x(1,1,2,12) [intercept=True]; AIC=334.762, BIC=345.022, Time=2.704 seconds\n",
      "Fit ARIMA(1,1,1)x(2,1,0,12) [intercept=True]; AIC=332.708, BIC=341.502, Time=2.231 seconds\n",
      "Fit ARIMA(1,1,1)x(2,1,1,12) [intercept=True]; AIC=334.728, BIC=344.988, Time=2.630 seconds\n",
      "Fit ARIMA(1,1,2)x(0,1,0,12) [intercept=True]; AIC=334.151, BIC=341.480, Time=0.526 seconds\n",
      "Fit ARIMA(1,1,2)x(0,1,1,12) [intercept=True]; AIC=333.992, BIC=342.786, Time=0.963 seconds\n",
      "Fit ARIMA(1,1,2)x(0,1,2,12) [intercept=True]; AIC=334.476, BIC=344.737, Time=2.443 seconds\n",
      "Fit ARIMA(1,1,2)x(1,1,0,12) [intercept=True]; AIC=333.709, BIC=342.503, Time=1.013 seconds\n",
      "Fit ARIMA(1,1,2)x(1,1,1,12) [intercept=True]; AIC=335.026, BIC=345.286, Time=1.225 seconds\n",
      "Fit ARIMA(1,1,2)x(2,1,0,12) [intercept=True]; AIC=334.387, BIC=344.647, Time=2.859 seconds\n",
      "Fit ARIMA(1,1,3)x(0,1,0,12) [intercept=True]; AIC=335.800, BIC=344.594, Time=0.581 seconds\n",
      "Fit ARIMA(1,1,3)x(0,1,1,12) [intercept=True]; AIC=335.628, BIC=345.889, Time=1.132 seconds\n",
      "Fit ARIMA(1,1,3)x(1,1,0,12) [intercept=True]; AIC=335.350, BIC=345.611, Time=1.063 seconds\n",
      "Fit ARIMA(1,1,4)x(0,1,0,12) [intercept=True]; AIC=339.357, BIC=349.617, Time=0.507 seconds\n",
      "Fit ARIMA(2,1,0)x(0,1,0,12) [intercept=True]; AIC=334.259, BIC=340.122, Time=0.162 seconds\n",
      "Fit ARIMA(2,1,0)x(0,1,1,12) [intercept=True]; AIC=333.822, BIC=341.150, Time=0.383 seconds\n",
      "Fit ARIMA(2,1,0)x(0,1,2,12) [intercept=True]; AIC=335.474, BIC=344.268, Time=1.133 seconds\n",
      "Fit ARIMA(2,1,0)x(1,1,0,12) [intercept=True]; AIC=333.758, BIC=341.087, Time=0.405 seconds\n",
      "Fit ARIMA(2,1,0)x(1,1,1,12) [intercept=True]; AIC=335.579, BIC=344.373, Time=0.937 seconds\n",
      "Fit ARIMA(2,1,0)x(1,1,2,12) [intercept=True]; AIC=337.478, BIC=347.738, Time=1.739 seconds\n",
      "Fit ARIMA(2,1,0)x(2,1,0,12) [intercept=True]; AIC=335.476, BIC=344.270, Time=1.913 seconds\n",
      "Fit ARIMA(2,1,0)x(2,1,1,12) [intercept=True]; AIC=337.478, BIC=347.739, Time=1.184 seconds\n",
      "Fit ARIMA(2,1,1)x(0,1,0,12) [intercept=True]; AIC=334.070, BIC=341.399, Time=0.394 seconds\n",
      "Fit ARIMA(2,1,1)x(0,1,1,12) [intercept=True]; AIC=333.891, BIC=342.686, Time=0.955 seconds\n",
      "Fit ARIMA(2,1,1)x(0,1,2,12) [intercept=True]; AIC=334.344, BIC=344.605, Time=2.322 seconds\n",
      "Fit ARIMA(2,1,1)x(1,1,0,12) [intercept=True]; AIC=333.602, BIC=342.396, Time=1.078 seconds\n",
      "Fit ARIMA(2,1,1)x(1,1,1,12) [intercept=True]; AIC=334.922, BIC=345.182, Time=1.179 seconds\n",
      "Fit ARIMA(2,1,1)x(2,1,0,12) [intercept=True]; AIC=335.519, BIC=345.779, Time=2.452 seconds\n",
      "Fit ARIMA(2,1,2)x(0,1,0,12) [intercept=True]; AIC=335.928, BIC=344.723, Time=0.506 seconds\n",
      "Fit ARIMA(2,1,2)x(0,1,1,12) [intercept=True]; AIC=335.571, BIC=345.831, Time=1.092 seconds\n",
      "Fit ARIMA(2,1,2)x(1,1,0,12) [intercept=True]; AIC=335.249, BIC=345.509, Time=1.098 seconds\n",
      "Fit ARIMA(2,1,3)x(0,1,0,12) [intercept=True]; AIC=337.554, BIC=347.815, Time=0.728 seconds\n",
      "Fit ARIMA(3,1,0)x(0,1,0,12) [intercept=True]; AIC=335.979, BIC=343.308, Time=0.212 seconds\n",
      "Fit ARIMA(3,1,0)x(0,1,1,12) [intercept=True]; AIC=335.383, BIC=344.177, Time=0.464 seconds\n",
      "Fit ARIMA(3,1,0)x(0,1,2,12) [intercept=True]; AIC=336.835, BIC=347.095, Time=1.707 seconds\n",
      "Fit ARIMA(3,1,0)x(1,1,0,12) [intercept=True]; AIC=335.275, BIC=344.070, Time=0.524 seconds\n",
      "Fit ARIMA(3,1,0)x(1,1,1,12) [intercept=True]; AIC=337.002, BIC=347.263, Time=1.189 seconds\n",
      "Fit ARIMA(3,1,0)x(2,1,0,12) [intercept=True]; AIC=336.833, BIC=347.093, Time=2.251 seconds\n",
      "Fit ARIMA(3,1,1)x(0,1,0,12) [intercept=True]; AIC=335.769, BIC=344.563, Time=0.529 seconds\n",
      "Fit ARIMA(3,1,1)x(0,1,1,12) [intercept=True]; AIC=335.507, BIC=345.767, Time=1.154 seconds\n",
      "Fit ARIMA(3,1,1)x(1,1,0,12) [intercept=True]; AIC=335.212, BIC=345.472, Time=1.165 seconds\n",
      "Fit ARIMA(3,1,2)x(0,1,0,12) [intercept=True]; AIC=338.060, BIC=348.320, Time=0.602 seconds\n"
     ]
    },
    {
     "name": "stdout",
     "output_type": "stream",
     "text": [
      "Fit ARIMA(4,1,0)x(0,1,0,12) [intercept=True]; AIC=337.786, BIC=346.581, Time=0.284 seconds\n",
      "Fit ARIMA(4,1,0)x(0,1,1,12) [intercept=True]; AIC=337.382, BIC=347.642, Time=0.551 seconds\n",
      "Fit ARIMA(4,1,0)x(1,1,0,12) [intercept=True]; AIC=337.274, BIC=347.534, Time=0.628 seconds\n",
      "Fit ARIMA(4,1,1)x(0,1,0,12) [intercept=True]; AIC=337.676, BIC=347.937, Time=0.667 seconds\n",
      "Fit ARIMA(5,1,0)x(0,1,0,12) [intercept=True]; AIC=339.654, BIC=349.914, Time=0.336 seconds\n",
      "Total fit time: 102.938 seconds\n"
     ]
    }
   ],
   "source": [
    "auto_arima_model = auto_arima(Train[\"Sales\"],start_p=0,\n",
    "                              start_q=0,max_p=10,max_q=10,\n",
    "                              m=12,start_P=0,seasonal=True,\n",
    "                              d=1,D=1,trace=True,error_action=\"ignore\",\n",
    "                              suppress_warnings= True,\n",
    "                              stepwise=False)\n",
    "       "
   ]
  },
  {
   "cell_type": "code",
   "execution_count": 47,
   "metadata": {},
   "outputs": [
    {
     "data": {
      "text/html": [
       "<table class=\"simpletable\">\n",
       "<caption>SARIMAX Results</caption>\n",
       "<tr>\n",
       "  <th>Dep. Variable:</th>                  <td>y</td>                <th>  No. Observations:  </th>    <td>45</td>   \n",
       "</tr>\n",
       "<tr>\n",
       "  <th>Model:</th>           <td>SARIMAX(0, 1, 1)x(1, 1, [], 12)</td> <th>  Log Likelihood     </th> <td>-161.811</td>\n",
       "</tr>\n",
       "<tr>\n",
       "  <th>Date:</th>                   <td>Sat, 18 Jul 2020</td>         <th>  AIC                </th>  <td>331.623</td>\n",
       "</tr>\n",
       "<tr>\n",
       "  <th>Time:</th>                       <td>16:46:13</td>             <th>  BIC                </th>  <td>337.486</td>\n",
       "</tr>\n",
       "<tr>\n",
       "  <th>Sample:</th>                         <td>0</td>                <th>  HQIC               </th>  <td>333.566</td>\n",
       "</tr>\n",
       "<tr>\n",
       "  <th></th>                              <td> - 45</td>              <th>                     </th>     <td> </td>   \n",
       "</tr>\n",
       "<tr>\n",
       "  <th>Covariance Type:</th>               <td>opg</td>               <th>                     </th>     <td> </td>   \n",
       "</tr>\n",
       "</table>\n",
       "<table class=\"simpletable\">\n",
       "<tr>\n",
       "      <td></td>         <th>coef</th>     <th>std err</th>      <th>z</th>      <th>P>|z|</th>  <th>[0.025</th>    <th>0.975]</th>  \n",
       "</tr>\n",
       "<tr>\n",
       "  <th>intercept</th> <td>    4.7621</td> <td>    5.789</td> <td>    0.823</td> <td> 0.411</td> <td>   -6.584</td> <td>   16.108</td>\n",
       "</tr>\n",
       "<tr>\n",
       "  <th>ma.L1</th>     <td>   -0.3018</td> <td>    0.189</td> <td>   -1.600</td> <td> 0.110</td> <td>   -0.671</td> <td>    0.068</td>\n",
       "</tr>\n",
       "<tr>\n",
       "  <th>ar.S.L12</th>  <td>   -0.3177</td> <td>    0.189</td> <td>   -1.683</td> <td> 0.092</td> <td>   -0.688</td> <td>    0.052</td>\n",
       "</tr>\n",
       "<tr>\n",
       "  <th>sigma2</th>    <td> 1383.7421</td> <td>  450.866</td> <td>    3.069</td> <td> 0.002</td> <td>  500.061</td> <td> 2267.423</td>\n",
       "</tr>\n",
       "</table>\n",
       "<table class=\"simpletable\">\n",
       "<tr>\n",
       "  <th>Ljung-Box (Q):</th>          <td>12.63</td> <th>  Jarque-Bera (JB):  </th> <td>1.98</td> \n",
       "</tr>\n",
       "<tr>\n",
       "  <th>Prob(Q):</th>                <td>1.00</td>  <th>  Prob(JB):          </th> <td>0.37</td> \n",
       "</tr>\n",
       "<tr>\n",
       "  <th>Heteroskedasticity (H):</th> <td>1.41</td>  <th>  Skew:              </th> <td>-0.60</td>\n",
       "</tr>\n",
       "<tr>\n",
       "  <th>Prob(H) (two-sided):</th>    <td>0.58</td>  <th>  Kurtosis:          </th> <td>2.78</td> \n",
       "</tr>\n",
       "</table><br/><br/>Warnings:<br/>[1] Covariance matrix calculated using the outer product of gradients (complex-step)."
      ],
      "text/plain": [
       "<class 'statsmodels.iolib.summary.Summary'>\n",
       "\"\"\"\n",
       "                                      SARIMAX Results                                      \n",
       "===========================================================================================\n",
       "Dep. Variable:                                   y   No. Observations:                   45\n",
       "Model:             SARIMAX(0, 1, 1)x(1, 1, [], 12)   Log Likelihood                -161.811\n",
       "Date:                             Sat, 18 Jul 2020   AIC                            331.623\n",
       "Time:                                     16:46:13   BIC                            337.486\n",
       "Sample:                                          0   HQIC                           333.566\n",
       "                                              - 45                                         \n",
       "Covariance Type:                               opg                                         \n",
       "==============================================================================\n",
       "                 coef    std err          z      P>|z|      [0.025      0.975]\n",
       "------------------------------------------------------------------------------\n",
       "intercept      4.7621      5.789      0.823      0.411      -6.584      16.108\n",
       "ma.L1         -0.3018      0.189     -1.600      0.110      -0.671       0.068\n",
       "ar.S.L12      -0.3177      0.189     -1.683      0.092      -0.688       0.052\n",
       "sigma2      1383.7421    450.866      3.069      0.002     500.061    2267.423\n",
       "===================================================================================\n",
       "Ljung-Box (Q):                       12.63   Jarque-Bera (JB):                 1.98\n",
       "Prob(Q):                              1.00   Prob(JB):                         0.37\n",
       "Heteroskedasticity (H):               1.41   Skew:                            -0.60\n",
       "Prob(H) (two-sided):                  0.58   Kurtosis:                         2.78\n",
       "===================================================================================\n",
       "\n",
       "Warnings:\n",
       "[1] Covariance matrix calculated using the outer product of gradients (complex-step).\n",
       "\"\"\""
      ]
     },
     "execution_count": 47,
     "metadata": {},
     "output_type": "execute_result"
    }
   ],
   "source": [
    "auto_arima_model.summary() # SARIMAX(1, 1, 1)x(0, 1, 1, 12)\n"
   ]
  },
  {
   "cell_type": "code",
   "execution_count": 48,
   "metadata": {},
   "outputs": [
    {
     "data": {
      "text/plain": [
       "array([   3.61395959,  745.44261695,  700.63642299,  779.57901263,\n",
       "        901.55904642, 1033.55440004, 1110.57990202, 1168.58872436,\n",
       "       1219.59197444, 1211.61933492, 1134.6513437 ,  974.74427808,\n",
       "       1159.61275768,  700.03143157,  782.59279989,  902.15426487,\n",
       "       1058.57409352, 1167.40351627, 1267.82594203, 1337.90317086,\n",
       "       1341.26644526, 1267.71134585, 1131.12482527,  901.22249478,\n",
       "        863.24334572,  849.51897205,  890.26547762, 1037.9132806 ,\n",
       "       1210.48666359, 1319.78848362, 1393.02826348, 1391.39099957,\n",
       "       1419.29911944, 1406.38925345, 1235.9330042 , 1022.35379225,\n",
       "       1010.81266225,  890.50997741,  960.94979471, 1115.87605436,\n",
       "       1270.55559384, 1400.35791737, 1425.82223468, 1582.09173154,\n",
       "       1590.64245301])"
      ]
     },
     "execution_count": 48,
     "metadata": {},
     "output_type": "execute_result"
    }
   ],
   "source": [
    "# For getting Fitted values for train data set we use \n",
    "# predict_in_sample() function \n",
    "auto_arima_model.predict_in_sample( )\n"
   ]
  },
  {
   "cell_type": "code",
   "execution_count": 49,
   "metadata": {},
   "outputs": [],
   "source": [
    "# For getting predictions for future we use predict() function \n",
    "pred_test = pd.Series(auto_arima_model.predict(n_periods=16))\n"
   ]
  },
  {
   "cell_type": "code",
   "execution_count": 50,
   "metadata": {},
   "outputs": [
    {
     "data": {
      "text/plain": [
       "11.395044304693952"
      ]
     },
     "execution_count": 50,
     "metadata": {},
     "output_type": "execute_result"
    }
   ],
   "source": [
    "# Adding the index values of Test Data set to predictions of Auto Arima\n",
    "pred_test.index = Test.index\n",
    "MAPE(pred_test,Test.Sales) "
   ]
  },
  {
   "cell_type": "code",
   "execution_count": 51,
   "metadata": {},
   "outputs": [],
   "source": [
    "from statsmodels.tsa.statespace.sarimax import SARIMAX"
   ]
  },
  {
   "cell_type": "code",
   "execution_count": 52,
   "metadata": {},
   "outputs": [
    {
     "data": {
      "text/html": [
       "<table class=\"simpletable\">\n",
       "<caption>SARIMAX Results</caption>\n",
       "<tr>\n",
       "  <th>Dep. Variable:</th>                 <td>Sales</td>              <th>  No. Observations:  </th>    <td>45</td>   \n",
       "</tr>\n",
       "<tr>\n",
       "  <th>Model:</th>           <td>SARIMAX(1, 1, 0)x(1, 0, [1], 12)</td> <th>  Log Likelihood     </th> <td>-237.346</td>\n",
       "</tr>\n",
       "<tr>\n",
       "  <th>Date:</th>                    <td>Sat, 18 Jul 2020</td>         <th>  AIC                </th>  <td>482.691</td>\n",
       "</tr>\n",
       "<tr>\n",
       "  <th>Time:</th>                        <td>16:46:13</td>             <th>  BIC                </th>  <td>489.828</td>\n",
       "</tr>\n",
       "<tr>\n",
       "  <th>Sample:</th>                          <td>0</td>                <th>  HQIC               </th>  <td>485.338</td>\n",
       "</tr>\n",
       "<tr>\n",
       "  <th></th>                               <td> - 45</td>              <th>                     </th>     <td> </td>   \n",
       "</tr>\n",
       "<tr>\n",
       "  <th>Covariance Type:</th>                <td>opg</td>               <th>                     </th>     <td> </td>   \n",
       "</tr>\n",
       "</table>\n",
       "<table class=\"simpletable\">\n",
       "<tr>\n",
       "      <td></td>        <th>coef</th>     <th>std err</th>      <th>z</th>      <th>P>|z|</th>  <th>[0.025</th>    <th>0.975]</th>  \n",
       "</tr>\n",
       "<tr>\n",
       "  <th>ar.L1</th>    <td>    0.0319</td> <td>    0.162</td> <td>    0.197</td> <td> 0.844</td> <td>   -0.285</td> <td>    0.349</td>\n",
       "</tr>\n",
       "<tr>\n",
       "  <th>ar.S.L12</th> <td>    0.9709</td> <td>    0.035</td> <td>   28.124</td> <td> 0.000</td> <td>    0.903</td> <td>    1.039</td>\n",
       "</tr>\n",
       "<tr>\n",
       "  <th>ma.S.L12</th> <td>   -0.3020</td> <td>    0.232</td> <td>   -1.304</td> <td> 0.192</td> <td>   -0.756</td> <td>    0.152</td>\n",
       "</tr>\n",
       "<tr>\n",
       "  <th>sigma2</th>   <td> 1530.1008</td> <td>  499.736</td> <td>    3.062</td> <td> 0.002</td> <td>  550.637</td> <td> 2509.565</td>\n",
       "</tr>\n",
       "</table>\n",
       "<table class=\"simpletable\">\n",
       "<tr>\n",
       "  <th>Ljung-Box (Q):</th>          <td>34.52</td> <th>  Jarque-Bera (JB):  </th> <td>4.30</td> \n",
       "</tr>\n",
       "<tr>\n",
       "  <th>Prob(Q):</th>                <td>0.71</td>  <th>  Prob(JB):          </th> <td>0.12</td> \n",
       "</tr>\n",
       "<tr>\n",
       "  <th>Heteroskedasticity (H):</th> <td>2.31</td>  <th>  Skew:              </th> <td>-0.77</td>\n",
       "</tr>\n",
       "<tr>\n",
       "  <th>Prob(H) (two-sided):</th>    <td>0.12</td>  <th>  Kurtosis:          </th> <td>2.97</td> \n",
       "</tr>\n",
       "</table><br/><br/>Warnings:<br/>[1] Covariance matrix calculated using the outer product of gradients (complex-step)."
      ],
      "text/plain": [
       "<class 'statsmodels.iolib.summary.Summary'>\n",
       "\"\"\"\n",
       "                                      SARIMAX Results                                       \n",
       "============================================================================================\n",
       "Dep. Variable:                                Sales   No. Observations:                   45\n",
       "Model:             SARIMAX(1, 1, 0)x(1, 0, [1], 12)   Log Likelihood                -237.346\n",
       "Date:                              Sat, 18 Jul 2020   AIC                            482.691\n",
       "Time:                                      16:46:13   BIC                            489.828\n",
       "Sample:                                           0   HQIC                           485.338\n",
       "                                               - 45                                         \n",
       "Covariance Type:                                opg                                         \n",
       "==============================================================================\n",
       "                 coef    std err          z      P>|z|      [0.025      0.975]\n",
       "------------------------------------------------------------------------------\n",
       "ar.L1          0.0319      0.162      0.197      0.844      -0.285       0.349\n",
       "ar.S.L12       0.9709      0.035     28.124      0.000       0.903       1.039\n",
       "ma.S.L12      -0.3020      0.232     -1.304      0.192      -0.756       0.152\n",
       "sigma2      1530.1008    499.736      3.062      0.002     550.637    2509.565\n",
       "===================================================================================\n",
       "Ljung-Box (Q):                       34.52   Jarque-Bera (JB):                 4.30\n",
       "Prob(Q):                              0.71   Prob(JB):                         0.12\n",
       "Heteroskedasticity (H):               2.31   Skew:                            -0.77\n",
       "Prob(H) (two-sided):                  0.12   Kurtosis:                         2.97\n",
       "===================================================================================\n",
       "\n",
       "Warnings:\n",
       "[1] Covariance matrix calculated using the outer product of gradients (complex-step).\n",
       "\"\"\""
      ]
     },
     "execution_count": 52,
     "metadata": {},
     "output_type": "execute_result"
    }
   ],
   "source": [
    "model = SARIMAX(Train['Sales'],order=(1,1,0),seasonal_order=(1,0,1,12))\n",
    "results = model.fit()\n",
    "results.summary()\n"
   ]
  },
  {
   "cell_type": "code",
   "execution_count": 53,
   "metadata": {},
   "outputs": [
    {
     "data": {
      "text/plain": [
       "45    1576.044188\n",
       "46    1325.923929\n",
       "47    1178.310780\n",
       "48    1125.705119\n",
       "49    1040.995267\n",
       "50    1117.651500\n",
       "51    1279.275888\n",
       "52    1433.433437\n",
       "53    1566.752802\n",
       "54    1610.485273\n",
       "55    1688.489440\n",
       "56    1728.076775\n",
       "57    1700.679369\n",
       "58    1457.824141\n",
       "59    1314.503113\n",
       "60    1263.427141\n",
       "Name: SARIMA(1,1,0)(1,0,1,12) Predictions, dtype: float64"
      ]
     },
     "execution_count": 53,
     "metadata": {},
     "output_type": "execute_result"
    }
   ],
   "source": [
    "# Obtain predicted values\n",
    "start=len(Train)\n",
    "end=len(Train)+len(Test)-1\n",
    "srma_pred = results.predict(start=start, end=end, dynamic=False, typ='levels').rename('SARIMA(1,1,0)(1,0,1,12) Predictions')\n",
    "srma_pred\n"
   ]
  },
  {
   "cell_type": "code",
   "execution_count": 54,
   "metadata": {},
   "outputs": [
    {
     "data": {
      "text/plain": [
       "[<matplotlib.lines.Line2D at 0x15a9916eb88>]"
      ]
     },
     "execution_count": 54,
     "metadata": {},
     "output_type": "execute_result"
    },
    {
     "data": {
      "image/png": "[encoded data removed]",
      "text/plain": [
       "<Figure size 432x288 with 1 Axes>"
      ]
     },
     "metadata": {
      "needs_background": "light"
     },
     "output_type": "display_data"
    }
   ],
   "source": [
    "# Visualization of Forecasted values for Test data set using different methods \n",
    "plt.plot(Train.index, Train[\"Sales\"], label='Train',color=\"black\")\n"
   ]
  },
  {
   "cell_type": "code",
   "execution_count": 55,
   "metadata": {},
   "outputs": [
    {
     "data": {
      "text/plain": [
       "[<matplotlib.lines.Line2D at 0x15a9f20de48>]"
      ]
     },
     "execution_count": 55,
     "metadata": {},
     "output_type": "execute_result"
    },
    {
     "data": {
      "image/png": "[encoded data removed]",
      "text/plain": [
       "<Figure size 432x288 with 1 Axes>"
      ]
     },
     "metadata": {
      "needs_background": "light"
     },
     "output_type": "display_data"
    }
   ],
   "source": [
    "plt.plot(Test.index, Test[\"Sales\"], label='Test',color=\"blue\")\n"
   ]
  },
  {
   "cell_type": "code",
   "execution_count": 56,
   "metadata": {},
   "outputs": [
    {
     "data": {
      "text/plain": [
       "[<matplotlib.lines.Line2D at 0x15a95cc9c88>]"
      ]
     },
     "execution_count": 56,
     "metadata": {},
     "output_type": "execute_result"
    },
    {
     "data": {
      "image/png": "[encoded data removed]",
      "text/plain": [
       "<Figure size 432x288 with 1 Axes>"
      ]
     },
     "metadata": {
      "needs_background": "light"
     },
     "output_type": "display_data"
    }
   ],
   "source": [
    "plt.plot(pred_hw.index, pred_hw, label='Holts_winter',color=\"red\")\n"
   ]
  },
  {
   "cell_type": "code",
   "execution_count": 57,
   "metadata": {},
   "outputs": [
    {
     "data": {
      "text/plain": [
       "[<matplotlib.lines.Line2D at 0x15aa5419b08>]"
      ]
     },
     "execution_count": 57,
     "metadata": {},
     "output_type": "execute_result"
    },
    {
     "data": {
      "image/png": "[encoded data removed]",
      "text/plain": [
       "<Figure size 432x288 with 1 Axes>"
      ]
     },
     "metadata": {
      "needs_background": "light"
     },
     "output_type": "display_data"
    }
   ],
   "source": [
    "plt.plot(pred_hwe_add_add.index,pred_hwe_add_add,label=\"HoltsWinterExponential_1\",color=\"brown\")\n"
   ]
  },
  {
   "cell_type": "code",
   "execution_count": 58,
   "metadata": {},
   "outputs": [
    {
     "data": {
      "text/plain": [
       "<matplotlib.legend.Legend at 0x15a93cdc788>"
      ]
     },
     "execution_count": 58,
     "metadata": {},
     "output_type": "execute_result"
    },
    {
     "data": {
      "image/png": "[encoded data removed]",
      "text/plain": [
       "<Figure size 432x288 with 1 Axes>"
      ]
     },
     "metadata": {
      "needs_background": "light"
     },
     "output_type": "display_data"
    }
   ],
   "source": [
    "plt.plot(pred_hwe_mul_add.index,pred_hwe_mul_add,label=\"HoltsWinterExponential_2\",color=\"yellow\")\n",
    "plt.plot(pred_hwe_mul_add.index,pred_hwe_mul_add,label=\"Auto_Arima\",color=\"grey\")\n",
    "plt.plot(pred_hwe_mul_add.index,srma_pred,label=\"Auto_Sarima\",color=\"purple\")\n",
    "plt.legend(loc='best')\n"
   ]
  },
  {
   "cell_type": "code",
   "execution_count": null,
   "metadata": {},
   "outputs": [],
   "source": []
  }
 ],
 "metadata": {
  "kernelspec": {
   "display_name": "Python 3",
   "language": "python",
   "name": "python3"
  },
  "language_info": {
   "codemirror_mode": {
    "name": "ipython",
    "version": 3
   },
   "file_extension": ".py",
   "mimetype": "text/x-python",
   "name": "python",
   "nbconvert_exporter": "python",
   "pygments_lexer": "ipython3",
   "version": "3.7.7"
  }
 },
 "nbformat": 4,
 "nbformat_minor": 4
}
